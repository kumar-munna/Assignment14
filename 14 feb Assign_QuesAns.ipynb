{
 "cells": [
  {
   "cell_type": "code",
   "execution_count": 1,
   "id": "3cbe4a14-c14e-4ad4-9380-6cf3d052e333",
   "metadata": {},
   "outputs": [],
   "source": [
    "# Question 1:- What is multithreading in python? Why is it used? Name the module used to handle\n",
    "# threads in python."
   ]
  },
  {
   "cell_type": "code",
   "execution_count": 2,
   "id": "8474f93b-6348-496e-bbfe-b74982fd6843",
   "metadata": {},
   "outputs": [],
   "source": [
    "# Answer 1:-"
   ]
  },
  {
   "cell_type": "code",
   "execution_count": 1,
   "id": "c3c7591b-c0a3-45f7-94b1-51693256dd82",
   "metadata": {},
   "outputs": [],
   "source": [
    "# Multithreading is defined as the ability of a processor to execute multiple threads \n",
    "# concurrently. In a simple single-core CPU it is achieved using frequent switching between \n",
    "# threads.\n",
    "# python multithreading enables efficient utilization of the resources as the threads share the\n",
    "# data space and memory. Multithreading allows the concurrent and parallel occurrence of various\n",
    "# tasks. It causes a reduction in time consumption or response time, thereby increasing the \n",
    "# performance.\n",
    "# There are two main modules of multithreading used to handle threads \n",
    "# 1. The thread module \n",
    "# 2. The threading module\n",
    "\n",
    "# Thread modules\n",
    "# It is started with python 3, designated as obsolete and can only be accessed with _thread\n",
    "# that supports backward compatibility.\n",
    "\n",
    "# threading module\n",
    "# the threading module is a high level implementation of multithreading used to deploy an \n",
    "# application in python . To use multthreading we need to import the threading module in \n",
    "# program"
   ]
  },
  {
   "cell_type": "code",
   "execution_count": 1,
   "id": "61a9db87-8574-4bc2-8eec-b720374e08a9",
   "metadata": {},
   "outputs": [],
   "source": [
    "# Question 2:- Why threading module used? Write the use of the following functions:\n",
    "#     1. activeCount()\n",
    "#     2. currentThread()\n",
    "#     3. enumerate()"
   ]
  },
  {
   "cell_type": "code",
   "execution_count": 2,
   "id": "4ac678da-45a3-4558-903e-9921255a1c2a",
   "metadata": {},
   "outputs": [],
   "source": [
    "# Answer 2:- threading module is used for creating, controlling and managing threads. There are \n",
    "#various function and object types defined by the threading module."
   ]
  },
  {
   "cell_type": "code",
   "execution_count": 3,
   "id": "99335676-1d64-49d8-b237-67b302a52862",
   "metadata": {},
   "outputs": [],
   "source": [
    "# activeCount() :- Returns the number of threads objects that are active.\n",
    "# currentThreads() :- Returns the number of thread objects in the caller's thread control.\n",
    "# enumerate() :- Returns a list of all thread objects that are currently active."
   ]
  },
  {
   "cell_type": "code",
   "execution_count": 4,
   "id": "1c9495ac-19a1-46b0-8d2e-ae5d5c821d13",
   "metadata": {},
   "outputs": [],
   "source": [
    "# Question 3:- Explain the following functions:\n",
    "#     1. run()\n",
    "#     2. start()\n",
    "#     3. join()\n",
    "#     4. isAlive()"
   ]
  },
  {
   "cell_type": "code",
   "execution_count": 5,
   "id": "01926c64-a43c-48ca-8602-5a51e0d8f358",
   "metadata": {},
   "outputs": [],
   "source": [
    "# Answer 3:-"
   ]
  },
  {
   "cell_type": "code",
   "execution_count": 7,
   "id": "ea83a1b2-b9af-4ad8-9aca-96e5b0dca0f0",
   "metadata": {},
   "outputs": [],
   "source": [
    "# run() :- The run() method is the entry point for a thread.\n",
    "\n",
    "# start() :- The start() method starts a thread by calling the run method.\n",
    "\n",
    "# join() :- The join() waits for threads to terminate.\n",
    "\n",
    "# isAlive() :- The isAlive() methods checks wether a thread is still executing."
   ]
  },
  {
   "cell_type": "code",
   "execution_count": 8,
   "id": "50375b3d-5206-495b-9d4e-91a7e5ba4e9c",
   "metadata": {},
   "outputs": [],
   "source": [
    "# Question 4:- Write a python program to create two threads. Thread one print the list of square and \n",
    "# thread two must print the list of cube."
   ]
  },
  {
   "cell_type": "code",
   "execution_count": 1,
   "id": "7bf5a3c2-8df7-4ec1-80ea-8d4192f0dcaa",
   "metadata": {},
   "outputs": [],
   "source": [
    "import threading"
   ]
  },
  {
   "cell_type": "code",
   "execution_count": 3,
   "id": "18ce92b3-772f-43bc-b491-165e45e49200",
   "metadata": {},
   "outputs": [
    {
     "name": "stdout",
     "output_type": "stream",
     "text": [
      "[0, 1, 4, 9, 16, 25, 36, 49, 64, 81]\n"
     ]
    }
   ],
   "source": [
    "def list_square(number, result_square):\n",
    "    result_square.append(number*number)\n",
    "result_square=[]\n",
    "thread=[threading.Thread(target=list_square, args=(i,result_square)) for i in range(10)]\n",
    "for t in thread:\n",
    "    t.start()\n",
    "for t in thread:\n",
    "    t.join()\n",
    "print(result_square)"
   ]
  },
  {
   "cell_type": "code",
   "execution_count": 6,
   "id": "dc7f4bc3-05c8-4833-8d97-34f44440113f",
   "metadata": {},
   "outputs": [
    {
     "name": "stdout",
     "output_type": "stream",
     "text": [
      "[0, 1, 8, 27, 64, 125, 216, 343, 512, 729]\n"
     ]
    }
   ],
   "source": [
    "def list_cube(number, result_cube):\n",
    "    result_cube.append(number*number*number)\n",
    "result_cube=[]\n",
    "thre=[threading.Thread(target=list_cube, args=(i,result_cube)) for i in range(10)]\n",
    "for t in thre:\n",
    "    t.start()\n",
    "for t in thre:\n",
    "    t.join()\n",
    "print(result_cube)"
   ]
  },
  {
   "cell_type": "code",
   "execution_count": null,
   "id": "e62e6884-ba96-4815-bbbf-5303048624d2",
   "metadata": {},
   "outputs": [],
   "source": [
    "# Question 5:- State advantages and Disadvantages of multithreading."
   ]
  },
  {
   "cell_type": "code",
   "execution_count": null,
   "id": "49c06b0f-0448-446c-867f-a093dec330d4",
   "metadata": {},
   "outputs": [],
   "source": [
    "# Answer 5:-"
   ]
  },
  {
   "cell_type": "code",
   "execution_count": null,
   "id": "5e17f94c-1976-4ef0-b19e-2e1c2947cac1",
   "metadata": {},
   "outputs": [],
   "source": [
    "# Advantages\n",
    "\n",
    "# 1. Enhanced performance by decreased development time\n",
    "# 2. Simplified and streamlined program coding\n",
    "# 3. Improvised GUI resposiveness\n",
    "# 4. Simultaneous and parallelized occurrence of tasks\n",
    "# 5. Better use of cache storage by utilization of resources\n",
    "# 6. Decreased cost of maintance\n",
    "# 7. Better use of Cpu reource"
   ]
  },
  {
   "cell_type": "code",
   "execution_count": null,
   "id": "0550aaf7-9084-42bc-8d4d-8d4027f2a1cf",
   "metadata": {},
   "outputs": [],
   "source": [
    "# #Disadvantage\n",
    "\n",
    "# 1. complex debugging and testing processes\n",
    "# 2. overhead switching of conext\n",
    "# 3. Increased potential for deadlock occurrence\n",
    "# 4. Increased difficulty level in writing a program\n",
    "# 5. Unpredictable results"
   ]
  },
  {
   "cell_type": "code",
   "execution_count": null,
   "id": "7e087d61-8f1c-4b26-a7cb-2632b7d26329",
   "metadata": {},
   "outputs": [],
   "source": [
    "# Question 6:-Explain deadlocks and race conditions."
   ]
  },
  {
   "cell_type": "code",
   "execution_count": null,
   "id": "174951e4-bfda-412b-8a34-d298c2d78789",
   "metadata": {},
   "outputs": [],
   "source": [
    "# Answer 6:-"
   ]
  },
  {
   "cell_type": "code",
   "execution_count": null,
   "id": "b385f663-eb72-4d3a-88ae-2e4d3c4bedaf",
   "metadata": {},
   "outputs": [],
   "source": [
    "# A deadlock is a concurrency failure mode where a thread or threads wait for a condition that never \n",
    "# occurs. The result is that the deadlock threads are unable to prograss and the program is stuck or\n",
    "# frozen and must be terminated forcefully."
   ]
  },
  {
   "cell_type": "code",
   "execution_count": null,
   "id": "8a748b0f-fbb1-445f-92fc-9d095c7164eb",
   "metadata": {},
   "outputs": [],
   "source": [
    "# A race condition is a failure case where the behaviour of the program is dependent upon the order of \n",
    "# execution by two or more threads. This means that the behaviour of the program will not be predictable\n",
    "# possibly changing each time it is run."
   ]
  }
 ],
 "metadata": {
  "kernelspec": {
   "display_name": "Python 3 (ipykernel)",
   "language": "python",
   "name": "python3"
  },
  "language_info": {
   "codemirror_mode": {
    "name": "ipython",
    "version": 3
   },
   "file_extension": ".py",
   "mimetype": "text/x-python",
   "name": "python",
   "nbconvert_exporter": "python",
   "pygments_lexer": "ipython3",
   "version": "3.10.8"
  }
 },
 "nbformat": 4,
 "nbformat_minor": 5
}
